{
 "cells": [
  {
   "cell_type": "markdown",
   "metadata": {},
   "source": [
    "# Talktorial 1 (your number goes here)\n",
    "\n",
    "# Topic title, e.g. Compound data acquisition (ChEMBL), molecular fingerprints and similarity\n",
    "\n",
    "#### CADD Seminar 2018, AG Volkamer, Charité/FU Berlin \n",
    "\n",
    "#### Your name\n",
    "\n",
    "Berlin, date"
   ]
  },
  {
   "cell_type": "markdown",
   "metadata": {},
   "source": [
    "# Learning goals\n",
    "\n",
    "\n",
    "## Theory\n",
    "\n",
    "*These points should refer to the headlines of your theory section below.*\n",
    "\n",
    "* ChEMBL database\n",
    "* Compound activity measures\n",
    "* Molecular fingerprints\n",
    "* Molecular similarity measures\n",
    "\n",
    "## Practical\n",
    "\n",
    "*These points should refer to the headlines of your practical section below.*\n",
    "\n",
    "* Connect to ChEMBL database\n",
    "* Load and draw molecules\n",
    "* Process and filter molecules\n",
    "* Fingerprint molecules\n",
    "  * Molecular descriptors in 1D\n",
    "  * Molecular descriptors in 2D\n",
    "* Calculate similarity\n",
    "\n",
    "\n",
    "# References\n",
    "\n",
    "* papers \n",
    "* tutorial links\n",
    "* other resources you used"
   ]
  },
  {
   "cell_type": "markdown",
   "metadata": {},
   "source": [
    "# Theory\n",
    "\n",
    "## ChEMBL database\n",
    "\n",
    "Text\n",
    "\n",
    "## Compound activity measures\n",
    "\n",
    "Text, e.g. IC50, ...\n",
    "\n",
    "## Molecular fingerprints\n",
    "\n",
    "Text, e.g. explain 1D (heavy atoms) and 2D (MACCS keys) descriptors\n",
    "\n",
    "## Molecular similarity measures\n",
    "\n",
    "Text, e.g. Tanimoto"
   ]
  },
  {
   "cell_type": "markdown",
   "metadata": {},
   "source": [
    "# Practical\n",
    "\n",
    "## Connect to ChEMBL database\n",
    "\n",
    "Explain what you will do."
   ]
  },
  {
   "cell_type": "code",
   "execution_count": null,
   "metadata": {},
   "outputs": [],
   "source": []
  },
  {
   "cell_type": "code",
   "execution_count": null,
   "metadata": {},
   "outputs": [],
   "source": []
  },
  {
   "cell_type": "markdown",
   "metadata": {},
   "source": [
    "## Load and draw molecules\n",
    "\n",
    "Explain what you will do."
   ]
  },
  {
   "cell_type": "code",
   "execution_count": null,
   "metadata": {},
   "outputs": [],
   "source": []
  },
  {
   "cell_type": "code",
   "execution_count": null,
   "metadata": {},
   "outputs": [],
   "source": []
  },
  {
   "cell_type": "markdown",
   "metadata": {},
   "source": [
    "## Process and filter molecules\n",
    "\n",
    "Explain what you will do."
   ]
  },
  {
   "cell_type": "code",
   "execution_count": null,
   "metadata": {},
   "outputs": [],
   "source": []
  },
  {
   "cell_type": "code",
   "execution_count": null,
   "metadata": {},
   "outputs": [],
   "source": []
  },
  {
   "cell_type": "markdown",
   "metadata": {},
   "source": [
    "## Fingerprint molecules (molecular descriptors)\n",
    "\n",
    "Explain what you will do."
   ]
  },
  {
   "cell_type": "markdown",
   "metadata": {},
   "source": [
    "### Molecular descriptors in 1D\n",
    "\n",
    "Explain what you will do."
   ]
  },
  {
   "cell_type": "code",
   "execution_count": null,
   "metadata": {},
   "outputs": [],
   "source": []
  },
  {
   "cell_type": "markdown",
   "metadata": {},
   "source": [
    "### Molecular descriptors in 2D\n",
    "\n",
    "Explain what you will do."
   ]
  },
  {
   "cell_type": "code",
   "execution_count": null,
   "metadata": {},
   "outputs": [],
   "source": []
  },
  {
   "cell_type": "markdown",
   "metadata": {},
   "source": [
    "## Calculate molecular Similarity\n",
    "\n",
    "Explain what you will do."
   ]
  },
  {
   "cell_type": "code",
   "execution_count": null,
   "metadata": {},
   "outputs": [],
   "source": []
  },
  {
   "cell_type": "code",
   "execution_count": null,
   "metadata": {},
   "outputs": [],
   "source": []
  },
  {
   "cell_type": "markdown",
   "metadata": {},
   "source": [
    "# Discussion\n",
    "\n",
    "Wrap up the talktorial's content here and discuss pros/cons and open questions/challenges."
   ]
  },
  {
   "cell_type": "markdown",
   "metadata": {},
   "source": [
    "# Quiz\n",
    "\n",
    "Ask three questions that the user should be able to answer after doing this talktorial. Choose important take-aways from this talktorial for your questions.\n",
    "\n",
    "1. Question\n",
    "2. Question\n",
    "3. Question"
   ]
  }
 ],
 "metadata": {
  "gist": {
   "data": {
    "description": "CADDSeminar_2018/CADD_course_talktorial_template.ipynb",
    "public": false
   },
   "id": ""
  },
  "kernelspec": {
   "display_name": "Python [conda env:cadd-py36]",
   "language": "python",
   "name": "conda-env-cadd-py36-py"
  },
  "language_info": {
   "codemirror_mode": {
    "name": "ipython",
    "version": 3
   },
   "file_extension": ".py",
   "mimetype": "text/x-python",
   "name": "python",
   "nbconvert_exporter": "python",
   "pygments_lexer": "ipython3",
   "version": "3.6.6"
  }
 },
 "nbformat": 4,
 "nbformat_minor": 2
}
