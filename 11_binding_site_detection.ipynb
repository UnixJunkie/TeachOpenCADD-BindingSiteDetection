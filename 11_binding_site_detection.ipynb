{
 "cells": [
  {
   "cell_type": "markdown",
   "metadata": {},
   "source": [
    "# Talktorial 11\n",
    "\n",
    "## Binding Site Detection (DogSiteScorer)\n"
   ]
  },
  {
   "cell_type": "markdown",
   "metadata": {},
   "source": [
    "# Aim of the Talktorial\n",
    "\n",
    "To get a protein structure and detect its ligand binding site.\n",
    "\n",
    "## Learning goals\n",
    "\n",
    "## Theory (Outline)\n",
    "* Introduction to pocket detection\n",
    "* Introduction to the type of approaches \n",
    "* Introduction to the used methods\n",
    "    * DogSiteScorer\n",
    "    * Fpocket\n",
    "    * POVME\n",
    "\n",
    "\n",
    "\n"
   ]
  },
  {
   "cell_type": "markdown",
   "metadata": {},
   "source": [
    "## Theory\n",
    "\n",
    "#### Introduction to pocket detection\n",
    "\n",
    "The ultimate goal in pharmaceutical research is to find a novel drug against a specific disease. Pocket detection, has a special mention in the process of drug prediction. Pockets are a **hollow 3 dimensional space** on the surface of a protein molecule, which serves as the region for **ligand** and **protein** binding. There are various factors which determines the presence of a pocket in a 3 dimensional space in a protein. This may depend upon the following factors.\n",
    "\n",
    "* The shape and the molecular orientation of the region\n",
    "* The possible interactions in a region is due to varied forces such as\n",
    "    * Van der Waals forces\n",
    "    * Covalent interaction\n",
    "    * Hydrogen bond interaction\n",
    "    * London forces\n",
    "    \n",
    "#### Introduction to the types of approaches\n",
    "\n",
    "* **POVME :** POVME stands for **POcket Volume MEasurer**. POVME algorithm follows 4 steps, which includes:\n",
    "    * <i>Step 1:</i> \n",
    " \n",
    " \n",
    "* **Fpocket :** Fpocket stands for \"Finding Pocket\". The pocket detection package based on Voronoi tessellation and alpha spheres. Fpocket core can be resumed by three major steps. (!!It is a grid free based method and it is energy and geometry based method)\n",
    "    * <i>Step 1:</i> The whole ensemble of alpha spheres is determined from the protein structure. Fpocket returns a   pre-filtered collection of spheres.\n",
    "    * <i>Step 2:</i> Identifying the clusters of spheres close together, to identify pockets, and to remove clusters of poor interest.\n",
    "    * <i>Step 3:</i> calculates properties from the atoms of the pocket, in order to score each pocket.\n",
    "    \n",
    "          \n",
    "* **DogSiteScorer :**  Several geometric and physico-chemical properties are automatically calculated for the predicted pockets and subpockets. Pocket volume and surface are calculated by counting the **grid points** constituting the pocket volume or its surface and multiplying this number with the grid box volume or surface, respectively. A **breadth-first search** is used for pocket depth computation, starting from the solvent exposed pocket parts toward the most deeply buried regions. (!!grid based method)\n",
    " \n",
    "#### Introduction to the used methods\n",
    " \n",
    " There are 3 automatic methods for the pocket and the druggability predictions. They include,\n",
    " * Sitemap (2009)\n",
    " * Fpocket (2009/2010)\n",
    " * DogSiteScorer (2010)\n",
    " \n",
    " All 3 algorithms predict pockets solely based on the **atomic co-ordinates** of the protein.\n",
    " * **SiteMap** uses **van der Waals (VdW) energies** and a **buriedness value** calculated on a grid to predict pockets on the protein surface.\n",
    " * **Fpocket** investigates **α spheres** for active site predictions.\n",
    " * In **DoGsiteScorer** , pockets and subpockets are predicted with DoGSite using a Difference of **Gaussian filter**.\n"
   ]
  },
  {
   "cell_type": "markdown",
   "metadata": {},
   "source": [
    "## References\n",
    "\n",
    "* Volkamer et al.,2011 Noordwijkerhout Cheminformatics **Combining Global and Local Measures for Structure-Based Druggability Predictions**\n",
    " \n",
    "* Volkamer et al.,2012 **DoGSiteScorer: a web server for automatic binding site prediction, analysis and druggability assessment**\n",
    "\n",
    "* Le Guilloux et al., 2009 **Fpocket: An open source platform for ligand pocket detection**\n",
    "\n",
    "* D. Durrant et al., 2009 **POVME: An Algorithm for Measuring Binding-Pocket Volumes**"
   ]
  },
  {
   "cell_type": "markdown",
   "metadata": {},
   "source": [
    "## Practical\n",
    "\n"
   ]
  },
  {
   "cell_type": "code",
   "execution_count": null,
   "metadata": {},
   "outputs": [],
   "source": []
  }
 ],
 "metadata": {
  "kernelspec": {
   "display_name": "teachopencadd",
   "language": "python",
   "name": "teachopencadd"
  },
  "language_info": {
   "codemirror_mode": {
    "name": "ipython",
    "version": 3
   },
   "file_extension": ".py",
   "mimetype": "text/x-python",
   "name": "python",
   "nbconvert_exporter": "python",
   "pygments_lexer": "ipython3",
   "version": "3.6.9"
  }
 },
 "nbformat": 4,
 "nbformat_minor": 2
}
