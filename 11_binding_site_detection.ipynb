{
 "cells": [
  {
   "cell_type": "markdown",
   "metadata": {},
   "source": [
    "# Talktorial 11\n",
    "\n",
    "# Binding Site Detection (DogSiteScorer)\n",
    "\n",
    "Abishek"
   ]
  },
  {
   "cell_type": "markdown",
   "metadata": {},
   "source": [
    "## Aim of the talktorial\n",
    "\n",
    "To get a protein structure and **detect its ligand binding** site at the example of **EGFR**.\n",
    "\n",
    "Be more precise (can be done once you outlined the practical)."
   ]
  },
  {
   "cell_type": "markdown",
   "metadata": {},
   "source": [
    "## Learning goals\n",
    "\n",
    "### Theory\n",
    "* Introduction to pocket detection\n",
    "* Pocket detection approaches\n",
    "    * DogSiteScorer\n",
    "    * (Fpocket)    \n",
    "* Pocket detection methods used in this talktorial   \n",
    "* Validation\n",
    "  * Ligand-based detection\n",
    "  * KLIFS pocket definitions\n",
    "  \n",
    "\n",
    "### Practical\n",
    "\n",
    "TBA"
   ]
  },
  {
   "cell_type": "markdown",
   "metadata": {},
   "source": [
    "## References\n",
    "\n",
    "* Volkamer et al.,2011 Noordwijkerhout Cheminformatics **Combining Global and Local Measures for Structure-Based Druggability Predictions**\n",
    " \n",
    "* Volkamer et al.,2012 **DoGSiteScorer: a web server for automatic binding site prediction, analysis and druggability assessment**\n",
    "\n",
    "* Le Guilloux et al., 2009 **Fpocket: An open source platform for ligand pocket detection**\n",
    "\n",
    "* Protein–ligand complex (https://en.wikipedia.org/wiki/Protein%E2%80%93ligand_complex)\n",
    "\n",
    "* Voronoi tessellation (https://en.wikipedia.org/wiki/Voronoi_diagram)\n",
    "\n",
    "* KLIFS database (http://klifs.vu-compmedchem.nl/)\n",
    "\n",
    "* **Fragments based drug Discovery** edited by Daniel A. Erlanson, Wolfgang Jahnke\n",
    "\n",
    "* J. Kooistra et al., 2015 **KLIFS: a structural kinase-ligand interaction database**\n",
    "\n",
    "* P. J. van Linden et al., 2013 Journal of medicinal Chemistry **KLIFS: A Knowledge-Based Structural Database To Navigate Kinase−Ligand Interaction Space**\n"
   ]
  },
  {
   "cell_type": "markdown",
   "metadata": {},
   "source": [
    "## Theory\n",
    "\n",
    "### Protein binding sites\n",
    "\n",
    "The main objective of a pharmaceutical research is to find a new drug inorder to cure a specific disease. Structure-based approaches in drug design, develop drugs with respect to a target protein which is associated with the disease under investigation. However, in order to develop such a drug it is crucial to know where the drug is supposed to bind in the protein and therefore inhibit or activate the protein. Not always such a small molecule binding site is known and therefore it is important to have tools for binding site detection.\n",
    "\n",
    "Pocket detection has a special mention in the process of drug prediction. Pockets are a **hollow 3 dimensional space** on the surface of a protein molecule, which serves as the region for **ligand**, **peptide**, or **protein** binding. There are various factors which determine the presence of pocket in 3 dimensional space of a protein:\n",
    "\n",
    "* The shape of the binding region\n",
    "* The possible interactions in a region such as\n",
    "    * Van der Waals forces\n",
    "    * Hydrogen bond interaction\n",
    "    * Hydrophobic forces\n",
    "    * Electrostatic interactions\n",
    "    * π-π interactions\n",
    "   \n",
    "Sometimes ligand information is available (protein-ligand-complex), in that case usually the ligand-surrounding protein region is defined as pocket (e.g. using a 6 Å radius)."
   ]
  },
  {
   "cell_type": "markdown",
   "metadata": {},
   "source": [
    "### Binding site detection approaches\n",
    "\n",
    "When the presence and the details of the ligand is known, then the ligand radius can be used to detect the pocket. When it is absent, then the detection tools can be used in the process of pocket detection. This comprises of 2 standard approaches. They include,\n",
    "* Geometry-based approach\n",
    "* Energy-based approach \n",
    "\n",
    "<div style=\"width:500; font-size:90%; text-align:center;\">\n",
    "    <img src=\"images/img2.png\" alt=\"alternate text\"  width=\"500\" style=\"padding:0.8em;\"/>\n",
    "    Figure 1: Energy-based and geometry-based binding site detection methods.\n",
    "</div>"
   ]
  },
  {
   "cell_type": "markdown",
   "metadata": {},
   "source": [
    "#### Geometry-based approaches\n",
    "\n",
    "This method analyzes the shape of a molecular surface to locate cavities. It is based upon the 3D spatial arrangement of the atoms in space. They are broadly divided into two namely Grid-Based and Grid-free approaches.\n",
    "\n",
    "* **Grid-based approaches**\n",
    "\n",
    "    * POCKET and LIGSITE are the common algorithms for the grid based methods.\n",
    "    * Grids with cartesian co-ordinates are used to embed a protein with spacing between 0.4 Å and 2.0 Å\n",
    "    * *This is assigned based upon the Van der Waal's radii* surrounding an atom of a protein.  \n",
    "   \n",
    "* **Grid-free approaches**\n",
    "\n",
    "    * SURFNET is a common algorithm for the grid-free methods.\n",
    "    * In this method spheres are placed on the protein surface. \n",
    "    * In SURFNET, probe spheres are placed midway between the pairs of atoms on the protein. Incase a probe overlaps any nearby atom, its radius is reduced until no overlap occurs. The resulting probes defines the pocket and the cavities. \n",
    "\n",
    "#### Energy-based approaches\n",
    "\n",
    "Interaction of a molecular fragment with protein is recorded. Favourable energitic responses are assigned to pockets. DrugSite and Docking are the well known energy based algorithms.\n",
    "<div class=\"center\" align=\"right\" width=\"500\"> </div>\n",
    "\n",
    "* **Grid-based approaches**\n",
    "\n",
    "    * DrugSite is a grid-based approach under the class of Energy based algorithms.\n",
    "    * This method uses carbon probes placed on each grid point, and van der Wall's energies between the probes within a distance of 8 Å are calculated. Mean energy and Standard deviation are calculated for these grid points. \n",
    "    * Grid points with unfavourable energies are removed. Grid points fulfilling these cut-off are merged to pockets.\n",
    "   \n",
    "* **Grid-free approaches**\n",
    "\n",
    "    * Docking serves as an important method in the Energy-based grid-free approach.\n",
    "    * In this method, a scoring function is incorporated to evaluate the fragments that are placed at a position on the protein surface.\n",
    "    * These pockets are assigned based on the quantity of fragments that bind to a specific area."
   ]
  },
  {
   "cell_type": "markdown",
   "metadata": {},
   "source": [
    "### DogSiteScorer \n",
    "\n",
    "Certain geometric and physico-chemical properties are calculated in an automatic manner for the predicted pockets and subpockets. In **DogSiteScorer** , pockets and subpockets are predicted with DoGSite using a Difference of **Gaussian filter**. DogSiteScorer falls under the category of the grid based approaches. Pocket volume and surface are calculated by counting the **grid points** constituting the pocket volume or its surface and multiplying this number with the grid box volume or surface, respectively. A **breadth-first search** is used for pocket depth computation, starting from the solvent exposed pocket parts toward the most deeply buried regions. \n",
    "\n",
    "#### Algorithm steps\n",
    "\n",
    "* The chosen protein of interest is covered around with a grid of co-ordinates.\n",
    "* Each of the **grid points** are **labelled**.\n",
    "* Difference of **Gaussian filter** is applied across the grid.\n",
    "* This operation helps to find the position on a protein surface where the location of a **sphere-like object** is favorable.\n",
    "* The last step in this algorithm is the merging of neighbouring subpockets to the pockets.\n",
    "\n",
    "#### Druggability score\n",
    "\n",
    "* Druggability technique is based on Machine learning technique - **Subject Vector Machine (SVM)**.\n",
    "* **Discriminative Analysis** - Best suited to seperate druggable from undruggable.\n",
    "* The model has been trained and tested on both the redundant and non-redundant version of the druggable dataset\n",
    "* This model showed a mean accuracy of 90%.\n",
    "* The druggabilty score lies between 0 and 1. The higher the score the better the chance that the pocket is druggable.\n",
    "    \n",
    "<div style=\"width:400; font-size:90%; text-align:center;\">\n",
    "    <img src=\"images/img1.png\" alt=\"alternate text\"  width=\"400\" style=\"padding:0.8em;\"/>\n",
    "    Figure 2:Grid point view \n",
    "</div>"
   ]
  },
  {
   "cell_type": "markdown",
   "metadata": {},
   "source": [
    "### Validation methods\n",
    "\n",
    "#### Ligand-based detection\n",
    "\n",
    "Sometimes ligand information is available (protein-ligand-complex), in that case usually the ligand-surrounding protein region is defined as pocket (e.g. using a 6 Å radius).\n",
    "\n",
    "If a bound ligand is known for a structure, it can be used for binding-site annotation.  \n",
    "\n",
    "\n",
    "#### KLIFS pocket definitons\n",
    "\n",
    "KLIFS stands for **Kinase-Ligand Interaction Fingerprints and structures database**. It is a structural repository of over 2900 human and mouse kinase enzymes along with their catalytic activity. It also deals with the kinase domains and also the inhibitors which can interact with them. Kinases share a similar conserved regions, which serves as a challenge for small molecules that can selectively bind to a specific kinase. \n",
    "\n",
    "KLIFS enables us to do systematic comparison and analysis of chemical features of all available kinases in the process of ligand binding. The classification helps us of an all-encompassing binding site of 85 residues. It is possible to compare the **interaction patterns** of **kinase-inhibitors** to each other to, for example, identify crucial interactions determining kinase-inhibitor selectivity. Therefore this could be an ideal method used for the validation of the obtained binding site. "
   ]
  },
  {
   "cell_type": "markdown",
   "metadata": {},
   "source": [
    "## Practical\n",
    "\n"
   ]
  },
  {
   "cell_type": "code",
   "execution_count": 1,
   "metadata": {},
   "outputs": [],
   "source": [
    "def get_dogsite_pockets(pdb_code, analysis_detail, binding_site_prediction_granularity, ligand='', chain=''):\n",
    "    pass\n",
    "\n",
    "def select_dogsite_pocket():\n",
    "    pass"
   ]
  },
  {
   "cell_type": "code",
   "execution_count": 2,
   "metadata": {},
   "outputs": [],
   "source": [
    "def get_klifs_pocket(pdb_code, chain='', alternate_model=''):\n",
    "    pass"
   ]
  },
  {
   "cell_type": "code",
   "execution_count": 3,
   "metadata": {},
   "outputs": [],
   "source": [
    "def get_pocket_from_ligand(pdb_code, ligand_code, chain='', alternate_model='', radius=6.5):\n",
    "    pass"
   ]
  },
  {
   "cell_type": "code",
   "execution_count": 4,
   "metadata": {},
   "outputs": [],
   "source": [
    "def step_01(pdb_code, chain, alternate_model):\n",
    "    '''\n",
    "    Get pocket data.\n",
    "    '''\n",
    "    \n",
    "    # Get pocket from DoGSiteScorer\n",
    "    pockets_dogsite = get_dogsite_pockets(\n",
    "        pdb_code, \n",
    "        analysis_detail, \n",
    "        binding_site_prediction_granularity, \n",
    "        ligand='', \n",
    "        chain=''\n",
    "    )\n",
    "    pocket_dogsite = select_dogsite_pocket(pockets_dogsite)\n",
    "    \n",
    "    # Get pocket from KLIFS\n",
    "    pocket_klifs = get_klifs_pocket(\n",
    "        pdb_code, \n",
    "        chain='', \n",
    "        alternate_model=''\n",
    "    )\n",
    "    \n",
    "    # Get pocket based on ligand\n",
    "    pocket_ligand = get_pocket_from_ligand(\n",
    "        pdb_code,\n",
    "        ligand_code, \n",
    "        chain='', \n",
    "        alternate_model='', \n",
    "        radius=6.5\n",
    "    )\n",
    "    \n",
    "    return pocket_dogsite, pocket_klifs, pocket_ligand"
   ]
  },
  {
   "cell_type": "code",
   "execution_count": 5,
   "metadata": {},
   "outputs": [],
   "source": [
    "def step_02(pocket_list):\n",
    "    '''\n",
    "    Compare different pocket results.\n",
    "    '''\n",
    "    \n",
    "    pass"
   ]
  },
  {
   "cell_type": "code",
   "execution_count": 6,
   "metadata": {},
   "outputs": [],
   "source": [
    "def step_03():\n",
    "    '''\n",
    "    Visualize different pocket results.\n",
    "    # TODO:\n",
    "    - NGLViewer\n",
    "    '''\n",
    "    \n",
    "    pass"
   ]
  },
  {
   "cell_type": "markdown",
   "metadata": {},
   "source": [
    "## Appendix\n",
    "\n",
    "#### Introduction to the used methods\n",
    " \n",
    " There are 3 automatic methods for the pocket and the druggability predictions. They include,\n",
    " * Sitemap (2009)\n",
    " * Fpocket (2009/2010)\n",
    " * DogSiteScorer (2010)\n",
    " \n",
    " All 3 algorithms predict pockets solely based on the **atomic co-ordinates** of the protein.\n",
    " \n",
    " * **SiteMap** uses **van der Waals (VdW) energies** and a **buriedness value** calculated on a grid to predict pockets on the protein surface.\n",
    " * **Fpocket** investigates **α spheres** for active site predictions.\n",
    " * In **DoGsiteScorer** , pockets and subpockets are predicted with DoGSite using a Difference of **Gaussian filter**.\n",
    "\n",
    "***The shape (and the molecular orientation) of the region\n",
    "\n",
    " * (London dispersion forces)\n",
    "    * (Covalent interaction)\n",
    "  \n",
    "  align=\"right\" width=\"260\"\n",
    "\n",
    "Ref\n",
    "\n",
    "* D. Durrant et al., 2009 **POVME: An Algorithm for Measuring Binding-Pocket Volumes**\n",
    "\n",
    "\n",
    "If we have a ligand: Use ligand radius\n",
    "\n",
    "If we don't have a ligand: Detection tools\n",
    "\n",
    "* Grid-based vs. grid-free\n",
    "\n",
    "<div class=\"center\" align=\"right\" width=\"200\">Figure 2: Energy based and geometry <br>based methods </div>\n",
    "\n",
    "* The radii is scaled down to ensure that they don't clash with the surrounding atom of a protein.\n",
    "    * Small virtual probes are used to cover and coat the protein surface.  Number of probes surrounding each atom is calculated. The spaces on the outer surfaces are filled and the potential binding site centers are selected.\n",
    "\n",
    "* \n",
    " \n",
    "#### Fpocket \n",
    "\n",
    "Fpocket stands for \"Finding Pocket\". The pocket detection package based on Voronoi tessellation and alpha spheres. **Fpocket** investigates **α spheres** for active site predictions. Fpocket algorithm consists of three major steps.\n",
    "\n",
    "* <i>Step 1:</i> The whole ensemble of alpha spheres is determined from the protein structure. Fpocket returns a   pre-filtered collection of spheres.\n",
    "* <i>Step 2:</i> Identifying the clusters of spheres close together, to identify pockets, and to remove clusters of poor interest.\n",
    "* <i>Step 3:</i> This finally calculates properties from the atoms of the pocket, in order to score each pocket.\n",
    "\n",
    "<div style=\"width:400; font-size:90%; text-align:center;\">\n",
    "    <img src=\"images/img4.png\" alt=\"alternate text\"  width=\"400\" style=\"padding:0.8em;\"/>\n",
    "    Figure 3: Voronoi tessellation based method\n",
    "</div>\n",
    "\n"
   ]
  },
  {
   "cell_type": "code",
   "execution_count": null,
   "metadata": {},
   "outputs": [],
   "source": []
  }
 ],
 "metadata": {
  "kernelspec": {
   "display_name": "teachopencadd",
   "language": "python",
   "name": "teachopencadd"
  },
  "language_info": {
   "codemirror_mode": {
    "name": "ipython",
    "version": 3
   },
   "file_extension": ".py",
   "mimetype": "text/x-python",
   "name": "python",
   "nbconvert_exporter": "python",
   "pygments_lexer": "ipython3",
   "version": "3.6.7"
  }
 },
 "nbformat": 4,
 "nbformat_minor": 2
}
