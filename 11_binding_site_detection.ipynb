{
 "cells": [
  {
   "cell_type": "markdown",
   "metadata": {},
   "source": [
    "# Talktorial 11\n",
    "\n",
    "# Binding Site Detection (DogSiteScorer)\n",
    "\n",
    "Abishek"
   ]
  },
  {
   "cell_type": "markdown",
   "metadata": {},
   "source": [
    "## Aim of the talktorial\n",
    "\n",
    "To get a protein structure and detect its ligand binding site at the example of EGFR.\n",
    "\n",
    "## Learning goals\n",
    "\n",
    "### Theory\n",
    "* Introduction to pocket detection\n",
    "* Pocket detection approaches\n",
    "    * Ligand-based detection\n",
    "    * DogSiteScorer\n",
    "    * Fpocket\n",
    "* Pocket detection methods used in this talktorial\n",
    "    \n",
    "### Practical\n",
    "\n",
    "TBA\n",
    "\n",
    "\n",
    "\n",
    "## References\n",
    "\n",
    "* Volkamer et al.,2011 Noordwijkerhout Cheminformatics **Combining Global and Local Measures for Structure-Based Druggability Predictions**\n",
    " \n",
    "* Volkamer et al.,2012 **DoGSiteScorer: a web server for automatic binding site prediction, analysis and druggability assessment**\n",
    "\n",
    "* Le Guilloux et al., 2009 **Fpocket: An open source platform for ligand pocket detection**\n",
    "\n",
    "* D. Durrant et al., 2009 **POVME: An Algorithm for Measuring Binding-Pocket Volumes**"
   ]
  },
  {
   "cell_type": "markdown",
   "metadata": {},
   "source": [
    "## Theory\n",
    "\n",
    "### Introduction to pocket detection\n",
    "\n",
    "_The ultimate goal in pharmaceutical research is to find a novel drug against a specific disease._\n",
    "Structure-based approaches in drug design develop drugs with respect to a target protein which is associated with the disease under investigation. However, in order to develop such a drug it is crucial to know where the drug is supposed to bind the protein and e.g. inhibit or activate the protein. Not always such a small molecule binding site is known, therefore it is important to have tools for binding site detection.\n",
    "\n",
    "Pocket detection has a special mention in the process of drug prediction. Pockets are a **hollow 3 dimensional space** on the surface of a protein molecule, which serves as the region for **ligand**, **peptide**, or **protein** binding. \n",
    "There are various factors which determine the presence of a pocket in 3 dimensional space in a protein:\n",
    "\n",
    "* The shape (and the molecular orientation) of the region\n",
    "* The possible interactions in a region such as\n",
    "    * Van der Waals forces\n",
    "    * Hydrogen bond interaction\n",
    "    * (London dispersion forces)\n",
    "    * (Covalent interaction)\n",
    "    \n",
    "Sometimes ligand information is available (protein-ligand-complex), in that case usually the ligand-surrounding protein region is defined as pocket (e.g. using a 6 A radius).\n",
    "\n",
    "### Pocket detection approaches\n",
    "\n",
    "If we have a ligand: Use ligand radius\n",
    "\n",
    "If we don't have a ligand: Detection tools\n",
    "\n",
    "* Grid-based vs. grid-free\n",
    "* Figure 2 from AV's review\n",
    "* Examples here\n",
    "\n",
    " * **Fpocket** investigates **α spheres** for active site predictions.\n",
    " * In **DoGsiteScorer** , pockets and subpockets are predicted with DoGSite using a Difference of **Gaussian filter**.\n",
    "\n",
    "\n",
    "### Pocket detection methods used in this talktorial\n",
    "\n",
    "#### Ligand-based detection\n",
    "\n",
    "#### KLIFS\n",
    "\n",
    "TBA.\n",
    "\n",
    "#### DogSiteScorer \n",
    "\n",
    "Several geometric and physico-chemical properties are automatically calculated for the predicted pockets and subpockets. \n",
    "\n",
    "Pocket volume and surface are calculated by counting the **grid points** constituting the pocket volume or its surface and multiplying this number with the grid box volume or surface, respectively. \n",
    "\n",
    "A **breadth-first search** is used for pocket depth computation, starting from the solvent exposed pocket parts toward the most deeply buried regions. (!!grid based method)\n",
    "\n",
    "* Algorithm steps\n",
    "* Druggability score\n",
    "* Insert Figure!\n",
    " \n",
    " \n",
    "#### Fpocket \n",
    "\n",
    "Fpocket stands for \"Finding Pocket\". The pocket detection package based on Voronoi tessellation and alpha spheres. Fpocket core can be resumed by three major steps. (!!It is a grid free based method and it is energy and geometry based method)\n",
    "\n",
    "* <i>Step 1:</i> The whole ensemble of alpha spheres is determined from the protein structure. Fpocket returns a   pre-filtered collection of spheres.\n",
    "* <i>Step 2:</i> Identifying the clusters of spheres close together, to identify pockets, and to remove clusters of poor interest.\n",
    "* <i>Step 3:</i> calculates properties from the atoms of the pocket, in order to score each pocket."
   ]
  },
  {
   "cell_type": "markdown",
   "metadata": {},
   "source": []
  },
  {
   "cell_type": "markdown",
   "metadata": {},
   "source": [
    "## Practical\n",
    "\n"
   ]
  },
  {
   "cell_type": "code",
   "execution_count": null,
   "metadata": {},
   "outputs": [],
   "source": []
  },
  {
   "cell_type": "code",
   "execution_count": null,
   "metadata": {},
   "outputs": [],
   "source": []
  },
  {
   "cell_type": "markdown",
   "metadata": {},
   "source": [
    "## Appendix\n",
    "\n",
    "#### Introduction to the used methods\n",
    " \n",
    " There are 3 automatic methods for the pocket and the druggability predictions. They include,\n",
    " * Sitemap (2009)\n",
    " * Fpocket (2009/2010)\n",
    " * DogSiteScorer (2010)\n",
    " \n",
    " All 3 algorithms predict pockets solely based on the **atomic co-ordinates** of the protein.\n",
    " \n",
    " * **SiteMap** uses **van der Waals (VdW) energies** and a **buriedness value** calculated on a grid to predict pockets on the protein surface.\n",
    " * **Fpocket** investigates **α spheres** for active site predictions.\n",
    " * In **DoGsiteScorer** , pockets and subpockets are predicted with DoGSite using a Difference of **Gaussian filter**.\n"
   ]
  }
 ],
 "metadata": {
  "kernelspec": {
   "display_name": "kinsim",
   "language": "python",
   "name": "kinsim"
  },
  "language_info": {
   "codemirror_mode": {
    "name": "ipython",
    "version": 3
   },
   "file_extension": ".py",
   "mimetype": "text/x-python",
   "name": "python",
   "nbconvert_exporter": "python",
   "pygments_lexer": "ipython3",
   "version": "3.6.7"
  }
 },
 "nbformat": 4,
 "nbformat_minor": 2
}
