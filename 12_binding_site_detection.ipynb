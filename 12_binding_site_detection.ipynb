{
 "cells": [
  {
   "cell_type": "markdown",
   "metadata": {},
   "source": [
    "# Talktorial 12\n",
    "\n",
    "# Binding Site Detection (DogSiteScorer)\n",
    "\n",
    "Abishek Laxmanan Ravi Shankar"
   ]
  },
  {
   "cell_type": "markdown",
   "metadata": {},
   "source": [
    "## Aim of the talktorial\n",
    "\n",
    "To get a protein structure and **detect its ligand binding site** using **DoGSiteScorer** at the example of **EGFR** and validate the detected binding site with **KLIFS** and **ligand based detection**. \n",
    "\n",
    "Be more precise (can be done once you outlined the practical)."
   ]
  },
  {
   "cell_type": "markdown",
   "metadata": {},
   "source": [
    "# Learning goals\n",
    "\n",
    "### Theory\n",
    "* Protein binding sites\n",
    "* Binding site detection \n",
    "    * Introduction\n",
    "    * DogSiteScorer    \n",
    "* Validation\n",
    "    * Ligand-based detection\n",
    "    * KLIFS pocket definitions\n",
    "\n",
    "### Practical\n",
    "\n",
    "TBA"
   ]
  },
  {
   "cell_type": "markdown",
   "metadata": {},
   "source": [
    "## References\n",
    "\n",
    "* Combining global and local measures for structure-based druggability predictions.\n",
    "([<i>Noordwijkerhout Cheminformatics</i> 2011, <b>52</b>, 360-372](https://www.ncbi.nlm.nih.gov/pubmed/22148551))\n",
    "\n",
    "* Prediction, Analysis, and Comparison of Active Sites \n",
    "([ <i>Journal of Chemical Information and Modeling</i> 2018 <b>6,7</b>](https://onlinelibrary.wiley.com/doi/abs/10.1002/9783527806539.ch6g))\n",
    "\n",
    "* DoGSiteScorer\n",
    "([<i>Bioinformatics</i> 2012, <b>28</b>, 2074-2075](https://doi.org/10.1093/bioinformatics/bts310)) \n",
    "\n",
    "* Fpocket\n",
    "([<i>BMC Bioinformatics</i> 2009, <b>10</b>, 168](https://bmcbioinformatics.biomedcentral.com/articles/10.1186/1471-2105-10-168))\n",
    "\n",
    "* Protein–ligand complex\n",
    "([Protein complex wiki](https://en.wikipedia.org/wiki/Protein%E2%80%93ligand_complex))\n",
    "\n",
    "* Voronoi tessellation\n",
    "([Voronoi tessellation Wiki](https://en.wikipedia.org/wiki/Voronoi_diagram))\n",
    "\n",
    "* KLIFS database\n",
    "( [KLIFS Website](http://klifs.vu-compmedchem.nl/))  \n",
    "\n",
    "* Fragments based drug Discovery\n",
    "([Google books](https://books.google.de/books?id=tjfvCQAAQBAJ&pg=PA202&lpg=PA202&dq=Fragments+based+drug+Discovery+SURFNET&source=bl&ots=O6XVGMVPTV&sig=ACfU3U2K6btUeMpgN4FBe627jpIJL6-mtQ&hl=en&sa=X&ved=2ahUKEwjonezYmbLkAhXBRxUIHdzKClIQ6AEwAnoECAkQAQ))\n",
    "\n",
    "* KLIFS: a structural kinase-ligand interaction database\n",
    "([<i>KLIFS Pubmed</i> 2016, Nucleic Acids Research, <b>44</b>, 365-371](https://www.ncbi.nlm.nih.gov/pubmed/26496949)) \n",
    "\n",
    "* KLIFS: A Knowledge-Based Structural Database To Navigate Kinase−Ligand Interaction Space\n",
    "([<i>KLIFS Journal of Medicinal Chemistry</i> 2013, <b>57</b>, 249-257](https://pubs.acs.org/doi/10.1021/jm400378w))\n",
    "\n",
    "* SURFNET\n",
    "([<i>Journal of Molecular Graphics</i>1995, <b>13</b>323-330](https://www.ncbi.nlm.nih.gov/pubmed/8603061))\n",
    "\n",
    "* LIGSITE\n",
    "([<i>Journal of Molecular Graphics and Modelling</i> 1997 <b>6</b> 359-363](https://www.sciencedirect.com/science/article/pii/S1093326398000023?via%3Dihub))\n",
    "\n",
    "* Docking \n",
    "( [Docking wiki](https://en.wikipedia.org/wiki/Docking_(molecular)))\n",
    "\n",
    "* DrugSite\n",
    "([<i>Genome Informatics</i>2004 <b>15</b> 31–41 ](https://pdfs.semanticscholar.org/59ca/aac9a79c29660385af0ab83b82fba57cc476.pdf))\n",
    "\n",
    "* Metapocket 2.0\n",
    "([Summary of various binding site detection approaches](https://projects.biotec.tu-dresden.de/metapocket/algorithm.php))\n",
    "\n"
   ]
  },
  {
   "cell_type": "markdown",
   "metadata": {},
   "source": [
    "## Theory\n",
    "\n",
    "### Protein binding sites\n",
    "\n",
    "The main objective of a pharmaceutical research is to find a new drug inorder to cure a specific disease. Structure-based approaches in drug design develop drugs with respect to a target protein which is associated with the disease under investigation. However, in order to develop such a drug it is crucial to know where the drug is supposed to bind in the protein and therefore inhibit or activate the protein. Not always such a small molecule binding site is known. Therefore it is important to have tools for binding site detection.\n",
    "\n",
    "Binding site detection has a special mention in the process of drug development. Binding sites are defined as a **hollow 3 dimensional space** on the surface of a protein molecule, which serves as the region for **ligand**, **peptide**, or **protein** binding. There are various factors which influence whether such a region is suitable binding site.\n",
    "* The Shape\n",
    "* The Spatial arrangement of the residues\n",
    "* The Possible interactions are\n",
    "    * Van der Waals interactions\n",
    "    * Hydrogen bond interactions\n",
    "    * Hydrophobic regions\n",
    "    * Electrostatic interactions\n",
    "    * π-π interactions\n",
    "   \n"
   ]
  },
  {
   "cell_type": "markdown",
   "metadata": {},
   "source": [
    "### Binding site detection \n",
    "\n",
    "If ligand information is available (protein-ligand-complex), then the ligand-surrounding protein region is defined as pocket (e.g. using a 6 Å radius).\n",
    "If the ligand is absent, then the detection tools can be used in the process of pocket detection. This comprises of 2 standard approaches. These methods can be grouped into, **geometry-based and energy-based** approaches as well as **grid-based and grid-free** approaches as outlined in the Figure 1.\n",
    "\n",
    "<div style=\"width:500; font-size:100%; text-align:center;\">\n",
    "    <img src=\"images/Figure1_DetectionMethods.png\" alt=\"alternate text\"  width=\"500\" style=\"padding:0.8em;\"/>\n",
    "    Figure 1: Binding site detection methods can be grouped into geometry-based and energy-based approaches as well as grid-based and grid-free approaches.\n",
    "</div>"
   ]
  },
  {
   "cell_type": "markdown",
   "metadata": {},
   "source": [
    "#### Geometry-based approaches\n",
    "\n",
    "Geometry-based approaches analyze the shape of a molecular surface to locate cavities. It is based upon the 3D spatial arrangement of the atoms on the protein surface. They are broadly divided into two namely Grid-Based and Grid-free approaches.\n",
    "\n",
    "* **Grid-based approaches**\n",
    "\n",
    "    * Examples: POCKET, LIGSITE and DoGSiteScorer \n",
    "    * In LIGSITE, the cartesian coordinates runs along the X, Y and Z axes through a 3D region which consists of protein surface on both sides.\n",
    "    * In addition to these axes a cubic diagonal passes along to find out the width of the cleft in between the protein surface. Therefore LIGSITE checks in seven directions the distance of each atom in the protein surface.\n",
    "    * Therefore these coordinates enables LIGSITE to diffrentate the Protein Solvent Protein regions (PSP) on the protein surface\n",
    "    * DoGSiteScorer is explained in detail below.\n",
    "   \n",
    "* **Grid-free approaches**\n",
    "\n",
    "    * Example: SURFNET\n",
    "    * In SURFNET spheres are placed on the protein surface instead of having grids. \n",
    "    * The probe spheres are placed midway between the pairs of atoms on the protein. Incase a probe overlaps any nearby atom, its radius is reduced until no overlap occurs. \n",
    "    * The resulting probes defines the pocket and the cavities. The cutoff radius of the spheres are of 1 to 4 angstrom .\n",
    "\n",
    "#### Energy-based approaches\n",
    "\n",
    "Interaction of a molecular fragment with protein is recorded. Favourable energitic responses are assigned to pockets. DrugSite and Docking are the well known energy-based methods. They are again divided into grid-based and grid-free approaches.\n",
    "<div class=\"center\" align=\"right\" width=\"500\"> </div>\n",
    "\n",
    "* **Grid-based approaches**\n",
    "\n",
    "    * Example: Drugsite\n",
    "    * This method uses carbon probes placed on each grid point, and van der Wall's energies between the probes within a distance of 8 Å are calculated. Mean energy and Standard deviation are calculated for these grid points. \n",
    "    * Grid points with unfavourable energies are removed. Grid points fulfilling these cut-off are merged to pockets.\n",
    "   \n",
    "* **Grid-free approaches**\n",
    "\n",
    "    * Example: Docking\n",
    "    * Docking process is similar to \"lock and key\" model in which the **target protein resembles** the **lock** and **ligand** to the **key**\n",
    "    * In this method, a scoring function is incorporated to evaluate the fragments that are placed at a position on the protein surface.\n",
    "    * Scoring functions are physics based, which uses Molecular Mechanics force fields, which primarily estimates the amount of affinity between the binding ligand and the protein.\n",
    "    * The scoring functions calculates the feasibilty of whether the ligand could be docked to the particular protein\n",
    "    * These pockets are assigned based on the quantity of fragments that bind to a specific area."
   ]
  },
  {
   "cell_type": "markdown",
   "metadata": {},
   "source": [
    "### DogSiteScorer \n",
    "\n",
    "Certain geometric and physico-chemical properties are calculated in an automatic manner for the predicted pockets and subpockets. In **DogSiteScorer** , pockets and subpockets are predicted with DoGSite using a Difference of **Gaussian filter**. DogSiteScorer falls under the category of Geometry-based and Grid-based approaches. Pocket volume and surface are calculated by counting the **grid points** constituting the pocket volume or its surface and multiplying this number with the grid box volume or surface, respectively. A **breadth-first search** algorithm is used for pocket depth computation, starting from the solvent exposed pocket parts toward the most deeply buried regions. \n",
    "\n",
    "#### Pocket Detection\n",
    "\n",
    "* The protein structure is covered around with a grid of coordinates.\n",
    "* Each of the **grid points** are **labelled**.\n",
    "* Difference of **Gaussian filter** is applied across the grid.\n",
    "* This operation helps to find the position on a protein surface where the location of a **sphere-like object** is favorable.\n",
    "* The last step in this algorithm is the merging of neighbouring subpockets to the pockets.\n",
    "\n",
    "<div style=\"width:400; font-size:100%; text-align:center;\">\n",
    "    <img src=\"images/Figure2_BindingSitePocket.png\" alt=\"alternate text\"  width=\"400\" style=\"padding:0.8em;\"/>\n",
    "    Figure 2: The binding site on the surface of the protein shown with grid view consisting of the surface molecules, volume inside the binding region, and the region exposed to the exterior of the protein \n",
    "</div>\n",
    "\n",
    "#### Druggability \n",
    "\n",
    "* The Druggability is based on Machine learning technique - **Support Vector Machine (SVM)**.\n",
    "* **Discriminative Analysis** - Best suited to seperate druggable from undruggable.\n",
    "* The model has been trained and tested on both the redundant and non-redundant version of the druggable dataset\n",
    "* This model showed a mean accuracy of 90%.\n",
    "* The druggabilty score lies between 0 and 1. The higher the score the better the chance that the pocket is druggable.\n",
    "    \n",
    "<div style=\"width:1000; font-size:100%; text-align:center;\">\n",
    "    <img src=\"images/Figure3_DogSiteAlgo.png\" alt=\"alternate text\"  width=\"1000\" style=\"padding:0.8em;\"/>\n",
    "    Figure 3: Flowsheet explaining the pipeline of DoGSiteScorer\n",
    "</div>\n"
   ]
  },
  {
   "cell_type": "markdown",
   "metadata": {},
   "source": [
    "### Validation methods\n",
    "\n",
    "#### Ligand-based detection\n",
    "\n",
    "Sometimes ligand information is available (protein-ligand-complex), in that case usually the ligand-surrounding protein region is defined as pocket (e.g. using a 6 Å radius).\n",
    "\n",
    "If a bound ligand is known for a structure, it can be used for binding-site annotation.  \n",
    "\n",
    "\n",
    "#### KLIFS pocket definition\n",
    "\n",
    "KLIFS stands for **Kinase-Ligand Interaction Fingerprints and structures database**. It is a structural repository of over 2900 human and mouse kinase enzymes along with their catalytic activity. It also deals with the kinase domains and also the inhibitors which can interact with them. Kinases share a similar conserved regions, which serves as a challenge for small molecules that can selectively bind to a specific kinase. \n",
    "\n",
    "KLIFS enables us to do systematic comparison and analysis of chemical features of all available kinases in the process of ligand binding. The classification helps us of an all-encompassing binding site of 85 residues. It is possible to compare the **interaction patterns** of **kinase-inhibitors** to each other to, for example, identify crucial interactions determining kinase-inhibitor selectivity. Therefore this could be an ideal method used for the validation of the obtained binding site. "
   ]
  },
  {
   "cell_type": "markdown",
   "metadata": {},
   "source": [
    "## Practical"
   ]
  },
  {
   "cell_type": "raw",
   "metadata": {},
   "source": [
    "!conda install -y biopandas -c conda-forge"
   ]
  },
  {
   "cell_type": "code",
   "execution_count": 1,
   "metadata": {},
   "outputs": [],
   "source": [
    "import time\n",
    "\n",
    "from biopandas.mol2 import PandasMol2\n",
    "from biopandas.pdb import PandasPdb\n",
    "import requests\n",
    "import pandas as pd"
   ]
  },
  {
   "cell_type": "code",
   "execution_count": 2,
   "metadata": {},
   "outputs": [],
   "source": [
    "pd.set_option('display.max_columns', None)\n",
    "pd.set_option('display.max_rows', None)"
   ]
  },
  {
   "cell_type": "markdown",
   "metadata": {},
   "source": [
    "### Binding site detection using DoGSiteScorer"
   ]
  },
  {
   "cell_type": "markdown",
   "metadata": {},
   "source": [
    "#### Submit job to DoGSiteScorer and get job location"
   ]
  },
  {
   "cell_type": "code",
   "execution_count": 3,
   "metadata": {},
   "outputs": [],
   "source": [
    "def dogsitescorer_submit_with_pdbid(pdb_code, chain_id, ligand=''):\n",
    "    \"\"\"\n",
    "    Submit PDB ID to DoGSiteScorer webserver using their API and get back URL for job location.\n",
    "    \n",
    "    Parameters\n",
    "    ----------\n",
    "    pdb_id : str \n",
    "        4-letter valid PDB ID, e.g. '3w32'.\n",
    "    chain : str\n",
    "        Chain ID, e.g. 'A'.\n",
    "    ligand : str\n",
    "        Name of ligand bound to PDB structure with pdb_id, e.g. 'W32_A_1101'. \n",
    "        Currently, the ligand name must be checked manually on the DoGSiteScorer website. \n",
    "        \n",
    "    Returns\n",
    "    -------\n",
    "    str\n",
    "        Job location URL for submitted query.\n",
    "        \n",
    "    References\n",
    "    ----------\n",
    "    Function is taken from: https://github.com/volkamerlab/TeachOpenCADD/pull/3\n",
    "    \"\"\"\n",
    "    \n",
    "    # Submit job to proteins.plus\n",
    "    r = requests.post(\"https://proteins.plus/api/dogsite_rest\",\n",
    "        json={\n",
    "            \"dogsite\": {\n",
    "                \"pdbCode\": pdb_code,\n",
    "                \"analysisDetail\": \"1\",\n",
    "                \"bindingSitePredictionGranularity\": \"1\",\n",
    "                \"ligand\": ligand,\n",
    "                \"chain\": chain_id\n",
    "            }\n",
    "        },\n",
    "        headers= {'Content-type': 'application/json', 'Accept': 'application/json'}\n",
    "    )\n",
    "\n",
    "    r.raise_for_status()\n",
    "    \n",
    "    return r.json()['location']"
   ]
  },
  {
   "cell_type": "code",
   "execution_count": 4,
   "metadata": {},
   "outputs": [
    {
     "data": {
      "text/plain": [
       "'https://proteins.plus/api/dogsite_rest/FSAdQY1ADHYFviSbwHG2jbPK'"
      ]
     },
     "execution_count": 4,
     "metadata": {},
     "output_type": "execute_result"
    }
   ],
   "source": [
    "# Identifying the job location where the work is submitted to the web server\n",
    "job_location = dogsitescorer_submit_with_pdbid('3w32', 'A')\n",
    "job_location"
   ]
  },
  {
   "cell_type": "code",
   "execution_count": 5,
   "metadata": {},
   "outputs": [],
   "source": [
    "# Wait a bit so that job can finish\n",
    "time.sleep(30)"
   ]
  },
  {
   "cell_type": "markdown",
   "metadata": {},
   "source": [
    "#### Get DoGSiteScorer pocket metadata"
   ]
  },
  {
   "cell_type": "code",
   "execution_count": 6,
   "metadata": {},
   "outputs": [],
   "source": [
    "def get_dogsitescorer_metadata(job_location):\n",
    "    \"\"\"\n",
    "    xxx - This function retrieves results from a DoGSiteScorer query.\n",
    "    It returns the binding sites which are found over the protein surface, \n",
    "    in the form of a table with the details about all detected pockets.\n",
    "\n",
    "    Parameters\n",
    "    ----------\n",
    "    job_location : str\n",
    "        Consists of the location of a finished DoGSiteScorer job on the proteins.plus web server.\n",
    "    \n",
    "    Returns\n",
    "    -------\n",
    "    result_table_df : pandas.DataFrame\n",
    "        Table with metadata on detected binding sites. \n",
    "    \"\"\"\n",
    "    \n",
    "    # Get job results\n",
    "    result = requests.get(job_location)\n",
    "    \n",
    "    # Get URL of result table file\n",
    "    result_file = result.json()['result_table']\n",
    "    \n",
    "    # Get result table\n",
    "    result_table = requests.get(result_file).text\n",
    "    \n",
    "    # Split string into list of lists (=table)\n",
    "    result_table_split = [i.split('\\t') for i in result_table[:-1].split('\\n')]\n",
    "\n",
    "    # Remove spaces\n",
    "    result_table_split = [[j.replace(' ', '') for j in i] for i in result_table_split]\n",
    "\n",
    "    # Extract column names, index names, table body\n",
    "    column_names = result_table_split[0]\n",
    "    index_names = [i[0] for i in result_table_split[1:]]\n",
    "    table = [i[1:] for i in result_table_split[1:]]\n",
    "\n",
    "    # Convert to DataFrame\n",
    "    result_table_df = pd.DataFrame(\n",
    "        table,\n",
    "        columns=column_names[1:],\n",
    "        index=index_names\n",
    "    )\n",
    "    result_table_df.index.name = 'name'\n",
    "    \n",
    "    # Convert number strings to numeric values\n",
    "    for name, data in result_table_df.iteritems():\n",
    "        try:\n",
    "            result_table_df[name] = pd.to_numeric(data)\n",
    "        except ValueError:\n",
    "            pass\n",
    "    \n",
    "    return result_table_df"
   ]
  },
  {
   "cell_type": "code",
   "execution_count": 7,
   "metadata": {
    "scrolled": true
   },
   "outputs": [
    {
     "ename": "KeyError",
     "evalue": "'result_table'",
     "output_type": "error",
     "traceback": [
      "\u001b[0;31m---------------------------------------------------------------------------\u001b[0m",
      "\u001b[0;31mKeyError\u001b[0m                                  Traceback (most recent call last)",
      "\u001b[0;32m<ipython-input-7-48a71bc88521>\u001b[0m in \u001b[0;36m<module>\u001b[0;34m\u001b[0m\n\u001b[1;32m      1\u001b[0m \u001b[0;31m# Retrieving all the guessed pockets from DoGSiteScorer Web server\u001b[0m\u001b[0;34m\u001b[0m\u001b[0;34m\u001b[0m\u001b[0;34m\u001b[0m\u001b[0m\n\u001b[0;32m----> 2\u001b[0;31m \u001b[0mmetadata\u001b[0m \u001b[0;34m=\u001b[0m \u001b[0mget_dogsitescorer_metadata\u001b[0m\u001b[0;34m(\u001b[0m\u001b[0mjob_location\u001b[0m\u001b[0;34m)\u001b[0m\u001b[0;34m\u001b[0m\u001b[0;34m\u001b[0m\u001b[0m\n\u001b[0m\u001b[1;32m      3\u001b[0m \u001b[0mmetadata\u001b[0m\u001b[0;34m\u001b[0m\u001b[0;34m\u001b[0m\u001b[0m\n",
      "\u001b[0;32m<ipython-input-6-809ceaafb985>\u001b[0m in \u001b[0;36mget_dogsitescorer_metadata\u001b[0;34m(job_location)\u001b[0m\n\u001b[1;32m     20\u001b[0m \u001b[0;34m\u001b[0m\u001b[0m\n\u001b[1;32m     21\u001b[0m     \u001b[0;31m# Get URL of result table file\u001b[0m\u001b[0;34m\u001b[0m\u001b[0;34m\u001b[0m\u001b[0;34m\u001b[0m\u001b[0m\n\u001b[0;32m---> 22\u001b[0;31m     \u001b[0mresult_file\u001b[0m \u001b[0;34m=\u001b[0m \u001b[0mresult\u001b[0m\u001b[0;34m.\u001b[0m\u001b[0mjson\u001b[0m\u001b[0;34m(\u001b[0m\u001b[0;34m)\u001b[0m\u001b[0;34m[\u001b[0m\u001b[0;34m'result_table'\u001b[0m\u001b[0;34m]\u001b[0m\u001b[0;34m\u001b[0m\u001b[0;34m\u001b[0m\u001b[0m\n\u001b[0m\u001b[1;32m     23\u001b[0m \u001b[0;34m\u001b[0m\u001b[0m\n\u001b[1;32m     24\u001b[0m     \u001b[0;31m# Get result table\u001b[0m\u001b[0;34m\u001b[0m\u001b[0;34m\u001b[0m\u001b[0;34m\u001b[0m\u001b[0m\n",
      "\u001b[0;31mKeyError\u001b[0m: 'result_table'"
     ]
    }
   ],
   "source": [
    "# Retrieving all the guessed pockets from DoGSiteScorer Web server \n",
    "metadata = get_dogsitescorer_metadata(job_location)\n",
    "metadata"
   ]
  },
  {
   "cell_type": "markdown",
   "metadata": {},
   "source": [
    "#### Sort pockets based on their drugScore"
   ]
  },
  {
   "cell_type": "code",
   "execution_count": null,
   "metadata": {
    "scrolled": true
   },
   "outputs": [],
   "source": [
    "# Sort the obtained binding site by descending drugScore\n",
    "metadata.sort_values(by='drugScore', ascending=False)"
   ]
  },
  {
   "cell_type": "code",
   "execution_count": null,
   "metadata": {},
   "outputs": [],
   "source": [
    "def select_best_pocket(metadata, by='drugScore'):\n",
    "    \"\"\"\n",
    "    xxx - 'drugScore' is used as a parameter to identify the best pocket among the obtained pockets.\n",
    "    \n",
    "    Parameters\n",
    "    ----------\n",
    "    metadata : pd.DataFrame\n",
    "        xxx\n",
    "    by : str\n",
    "       xxx\n",
    "        \n",
    "    Returns \n",
    "    -------\n",
    "    str\n",
    "        The best pocket based on the 'DrugScore' is returned here as the output.\n",
    "    \"\"\"\n",
    "    \n",
    "    by_methods = ['drugScore', 'volume']\n",
    "    \n",
    "    # Sort by best druggability score\n",
    "    if by == 'drugScore':\n",
    "        sorted_pocket = metadata.sort_values(by='drugScore', ascending=False)\n",
    "    # Sort by volume\n",
    "    elif by == 'volume':\n",
    "        sorted_pocket = metadata.sort_values(by='volume', ascending=False)\n",
    "    else:\n",
    "        raise ValueError(f'Selection method not in list: {\", \".join(by_methods)}')\n",
    "                         \n",
    "    # Get name of best pocket\n",
    "    best_pocket_name = sorted_pocket.iloc[0, :].name     \n",
    "        \n",
    "    return best_pocket_name"
   ]
  },
  {
   "cell_type": "code",
   "execution_count": null,
   "metadata": {},
   "outputs": [],
   "source": [
    "# Get the name of the best pocket\n",
    "best_pocket = select_best_pocket(metadata, by='drugScore')\n",
    "best_pocket"
   ]
  },
  {
   "cell_type": "markdown",
   "metadata": {},
   "source": [
    "#### Get best binding site file content"
   ]
  },
  {
   "cell_type": "code",
   "execution_count": null,
   "metadata": {},
   "outputs": [],
   "source": [
    "def get_pocket_locations(job_location):\n",
    "    \"\"\"\n",
    "    xxx - We have identified the best pocket by the above step. Now we must obtain the best pocket file in \".pdb\" format.\n",
    "    \n",
    "    Parameters\n",
    "    ----------\n",
    "    job_location : str\n",
    "        xxx\n",
    "    \n",
    "    Returns\n",
    "    -------\n",
    "    str\n",
    "        xxx\n",
    "    \"\"\"\n",
    "    \n",
    "    # Get job results\n",
    "    result = requests.get(job_location)\n",
    "    \n",
    "    # Get residues\n",
    "    return result.json()['residues']"
   ]
  },
  {
   "cell_type": "code",
   "execution_count": null,
   "metadata": {},
   "outputs": [],
   "source": [
    "def get_best_pocket_location(pocket_files, best_pocket):\n",
    "    \"\"\"\n",
    "    xxx - To create a function to get the best binding site file from the list of all obtained pdb files.\n",
    "    \n",
    "    Parameters\n",
    "    ----------\n",
    "    pocket_files : list\n",
    "        xxx\n",
    "    best_pocket : str\n",
    "        xxx\n",
    "\n",
    "    Returns\n",
    "    ------\n",
    "    xxx\n",
    "        xxx\n",
    "    \"\"\"\n",
    "    result = []\n",
    "    \n",
    "    for pocket_file in pocket_files:\n",
    "        \n",
    "        if f'{best_pocket}_res' in pocket_file:\n",
    "            result.append(pocket_file)\n",
    "            \n",
    "    if len(result) > 1:\n",
    "        raise TypeError(f'Multiple strings detected: {\", \".join(result)}.')\n",
    "    elif len(result) == 0:\n",
    "        raise TypeError(f'No string detected.')\n",
    "    else:\n",
    "        pass\n",
    "            \n",
    "    return result[0]"
   ]
  },
  {
   "cell_type": "code",
   "execution_count": null,
   "metadata": {},
   "outputs": [],
   "source": [
    "# Get URL for all PDB files\n",
    "pocket_files = get_pocket_locations(job_location)\n",
    "pocket_files"
   ]
  },
  {
   "cell_type": "code",
   "execution_count": null,
   "metadata": {},
   "outputs": [],
   "source": [
    "# Get URL for PDB file containing the best pocket\n",
    "best_pocket_location = get_best_pocket_location(pocket_files, best_pocket)\n",
    "best_pocket_location"
   ]
  },
  {
   "cell_type": "markdown",
   "metadata": {},
   "source": [
    "#### Get residue IDs and names of best pocket"
   ]
  },
  {
   "cell_type": "code",
   "execution_count": null,
   "metadata": {},
   "outputs": [],
   "source": [
    "def get_pocket_residues(pocket_location):\n",
    "    \"\"\"\n",
    "    Get residue IDs and names of a pocket.\n",
    "    \n",
    "    Parameters\n",
    "    ----------\n",
    "    pocket_location : str\n",
    "        xxx\n",
    "        \n",
    "    Returns\n",
    "    -------\n",
    "    xxx\n",
    "        xxx\n",
    "    \"\"\"\n",
    "    \n",
    "    # Retrieve PDB file content from URL\n",
    "    result = requests.get(pocket_location)\n",
    "\n",
    "    # Get content of PDB file  \n",
    "    pdb_residues = result.text\n",
    "    \n",
    "    # Load PDB format as DataFrame\n",
    "    ppdb = PandasPdb()\n",
    "    pdb_df = ppdb._construct_df(pdb_residues.splitlines(True))['ATOM']\n",
    "    \n",
    "    return pdb_df[['residue_number', 'residue_name']]"
   ]
  },
  {
   "cell_type": "code",
   "execution_count": null,
   "metadata": {},
   "outputs": [],
   "source": [
    "# Get residues of best pocket\n",
    "pocket_residues = get_pocket_residues(best_pocket_location)\n",
    "pocket_residues"
   ]
  },
  {
   "cell_type": "markdown",
   "metadata": {},
   "source": [
    "# Validation using KLIFS"
   ]
  },
  {
   "cell_type": "markdown",
   "metadata": {},
   "source": [
    "We have identified the binding site of a kinase of interest with the help of DoGSiteScorer web server. \n",
    "Now we want to check if the obtained binding site is in agreement with the defined binding site defined by the KLIFS database. "
   ]
  },
  {
   "cell_type": "raw",
   "metadata": {},
   "source": [
    "# Run this if you get an ImportError below\n",
    "!pip install bravado"
   ]
  },
  {
   "cell_type": "code",
   "execution_count": null,
   "metadata": {},
   "outputs": [],
   "source": [
    "from bravado.client import SwaggerClient\n",
    "\n",
    "KLIFS_API_DEFINITIONS = \"http://klifs.vu-compmedchem.nl/swagger/swagger.json\"\n",
    "KLIFS_CLIENT = SwaggerClient.from_url(KLIFS_API_DEFINITIONS, config={'validate_responses': False})"
   ]
  },
  {
   "cell_type": "markdown",
   "metadata": {},
   "source": [
    "#### Get KLIFS structure ID for a PDB ID of interest "
   ]
  },
  {
   "cell_type": "code",
   "execution_count": null,
   "metadata": {},
   "outputs": [],
   "source": [
    "def get_klifsid_from_pdbid(pdb_codes):\n",
    "    \"\"\"\n",
    "    Get KLIFS structure ID for a PDB ID of interest.\n",
    "    \n",
    "    Parameters\n",
    "    ----------\n",
    "    pdb_codes : str or list of str\n",
    "        xxx\n",
    "    \n",
    "    Returns\n",
    "    -------\n",
    "    xxx\n",
    "        xxx\n",
    "    \"\"\"\n",
    "    \n",
    "    # If only a single PDB ID is provided in the form of a string, cast string to list\n",
    "    if isinstance(pdb_codes, str):\n",
    "        pdb_codes = [pdb_codes]\n",
    "    \n",
    "    # Get metadata for KLIFS structures associated with one or more PDB IDs\n",
    "    klifs_structures = KLIFS_CLIENT.Structures.get_structures_pdb_list(\n",
    "        pdb_codes=pdb_codes\n",
    "    ).response().result\n",
    "    \n",
    "    # Get KLIFS IDs for KLIFS structures\n",
    "    klifs_ids = [i.structure_ID for i in klifs_structures]\n",
    "    \n",
    "    # Get first KLIFS ID\n",
    "    klifs_id = klifs_ids[0]\n",
    "    \n",
    "    return int(klifs_id)"
   ]
  },
  {
   "cell_type": "code",
   "execution_count": null,
   "metadata": {},
   "outputs": [],
   "source": [
    "# Get KLIFS ID\n",
    "klifs_id = get_klifsid_from_pdbid('3w32')\n",
    "klifs_id"
   ]
  },
  {
   "cell_type": "markdown",
   "metadata": {},
   "source": [
    "#### Get pocket from KLIFS ID and extract residues"
   ]
  },
  {
   "cell_type": "code",
   "execution_count": null,
   "metadata": {},
   "outputs": [],
   "source": [
    "def get_klifs_pocket(klifs_id):\n",
    "    \"\"\"\n",
    "    xxx - This function takes structure ID aqs the input and returns the binding site residues as the output\n",
    "    \n",
    "    Parameters\n",
    "    ----------\n",
    "    klifs_id : str\n",
    "        xxx\n",
    "    \n",
    "    Returns\n",
    "    -------\n",
    "    xxx\n",
    "        xxx\n",
    "    \"\"\"\n",
    "    \n",
    "    klifs_pocket = KLIFS_CLIENT.Structures.get_structure_get_pocket(\n",
    "        structure_ID=klifs_id\n",
    "    ).response().result\n",
    "    \n",
    "    return klifs_pocket"
   ]
  },
  {
   "cell_type": "code",
   "execution_count": null,
   "metadata": {},
   "outputs": [],
   "source": [
    "def get_klifs_residues(klifs_pocket):\n",
    "    \"\"\"\n",
    "    xxx - This function returns the residue IDs and residue names which are returned from the KLIFS database \n",
    "    \n",
    "    Parameters\n",
    "    ----------\n",
    "    klifs_pocket : str\n",
    "        xxx\n",
    "    \n",
    "    Returns\n",
    "    -------\n",
    "    xxx\n",
    "        xxx\n",
    "    \"\"\"\n",
    "    \n",
    "    ppdb = PandasMol2()\n",
    "    mol2_df = ppdb._construct_df(\n",
    "        binding_site.splitlines(True),  \n",
    "        col_names=['1','2','3','4','5','6','7','Residues','9','10'],  #TODO include reasonable column names\n",
    "        col_types=[str]*10  #TODO include reasonable\n",
    "    )\n",
    "    \n",
    "    return mol2_df[['Residues']]"
   ]
  },
  {
   "cell_type": "code",
   "execution_count": null,
   "metadata": {},
   "outputs": [],
   "source": [
    "# Get KLIFS pocket\n",
    "klifs_pocket = get_klifs_pocket(klifs_id)\n",
    "klifs_pocket"
   ]
  },
  {
   "cell_type": "code",
   "execution_count": null,
   "metadata": {
    "scrolled": true
   },
   "outputs": [],
   "source": [
    "# Get KLIFS residues\n",
    "klifs_residues = get_klifs_residues(klifs_pocket)\n",
    "klifs_residues"
   ]
  },
  {
   "cell_type": "code",
   "execution_count": null,
   "metadata": {},
   "outputs": [],
   "source": [
    "# Split residue ID and name (in order to have the same output as for the DSS pocket residues)"
   ]
  },
  {
   "cell_type": "code",
   "execution_count": null,
   "metadata": {},
   "outputs": [],
   "source": [
    "res='ALA333'"
   ]
  },
  {
   "cell_type": "code",
   "execution_count": null,
   "metadata": {},
   "outputs": [],
   "source": [
    "res_name = res[:3]\n",
    "res_name"
   ]
  },
  {
   "cell_type": "code",
   "execution_count": null,
   "metadata": {},
   "outputs": [],
   "source": [
    "res_id = res[3:]\n",
    "res_id"
   ]
  },
  {
   "cell_type": "code",
   "execution_count": null,
   "metadata": {},
   "outputs": [],
   "source": [
    "# AL's notes\n",
    "'ALA333'.replace(r'^((?:\\D*\\d){3})(?=.+)', r'\\1.')\n",
    "\n",
    "klifs_residues[0].str.replace(r'^((?:\\D*\\d){3})(?=.+)', r'\\1.')\n",
    "\n",
    "klifs_residues.Residues.apply(lambda x: pd.Series(str(x).split('7',1)))\n",
    "\n",
    "# Split residue ID and name (in order to have the same output as for the DSS pocket residues)\n",
    "kresidue_name, kresidue_id = klifs_residues[:len(klifs_residues)//2], klifs_residues[len(\"klifs_residues\")//2:]\n",
    "kresidue_name\n",
    "kresidue_id"
   ]
  },
  {
   "cell_type": "markdown",
   "metadata": {},
   "source": [
    "## Compare DoGSiteScorer and KLIFS pocket\n",
    "\n",
    "Intersection of residue IDs?"
   ]
  },
  {
   "cell_type": "code",
   "execution_count": 9,
   "metadata": {},
   "outputs": [],
   "source": [
    "klifs = [1,2,3]\n",
    "dss = [2,3,4]"
   ]
  },
  {
   "cell_type": "code",
   "execution_count": 11,
   "metadata": {},
   "outputs": [
    {
     "data": {
      "text/plain": [
       "{2, 3}"
      ]
     },
     "execution_count": 11,
     "metadata": {},
     "output_type": "execute_result"
    }
   ],
   "source": [
    "# Get intersection\n",
    "set(klifs) & set(dss)"
   ]
  },
  {
   "cell_type": "code",
   "execution_count": null,
   "metadata": {},
   "outputs": [],
   "source": [
    "# How many percent of DSS residues are defined in KLIFS? (DSS coverage)\n",
    "n_dss_all_residues = len(dss)\n",
    "n_dss_klifs_residues = "
   ]
  },
  {
   "cell_type": "code",
   "execution_count": null,
   "metadata": {},
   "outputs": [],
   "source": []
  }
 ],
 "metadata": {
  "kernelspec": {
   "display_name": "teachopencadd",
   "language": "python",
   "name": "teachopencadd"
  },
  "language_info": {
   "codemirror_mode": {
    "name": "ipython",
    "version": 3
   },
   "file_extension": ".py",
   "mimetype": "text/x-python",
   "name": "python",
   "nbconvert_exporter": "python",
   "pygments_lexer": "ipython3",
   "version": "3.6.7"
  }
 },
 "nbformat": 4,
 "nbformat_minor": 2
}
